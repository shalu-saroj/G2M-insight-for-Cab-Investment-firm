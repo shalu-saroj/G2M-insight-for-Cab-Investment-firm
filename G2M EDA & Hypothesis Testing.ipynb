{
 "cells": [
  {
   "cell_type": "markdown",
   "id": "a0b91b2d",
   "metadata": {},
   "source": [
    "# G2M insight for Cab Investment firm\n",
    "\n",
    "## Made by: Shalu Saroj\n",
    "### LISUM23 : 30\n",
    "G2M Case Study\n",
    "Project detail:\n",
    "You have been provided with multiple data sets that contains information on 2 cab companies. Each file (data set) provided represents different aspects of the customer profile. XYZ is interested in using your actionable insights to help them identify the right company to make their investment.\n",
    "\n",
    "The outcome of your delivery will be a presentation to XYZ’s Executive team. This presentation will be judged based on the visuals provided, the quality of your analysis and the value of your recommendations and insights.\n",
    "\n",
    "Data Set:\n",
    "You have been provided 4 individual data sets. Time period of data is from 31/01/2016 to 31/12/2018.\n",
    "\n",
    "Below are the list of datasets which are provided for the analysis:\n",
    "\n",
    "Cab_Data.csv – this file includes details of transaction for 2 cab companies\n",
    "\n",
    "Customer_ID.csv – this is a mapping table that contains a unique identifier which links the customer’s demographic details\n",
    "\n",
    "Transaction_ID.csv – this is a mapping table that contains transaction to customer mapping and payment mode\n",
    "\n",
    "City.csv – this file contains list of US cities, their population and number of cab users\n",
    "\n",
    "You should fully investigate and understand each data set.\n",
    "\n",
    "Review the Source Documentation\n",
    "Understand the field names and data types\n",
    "Identify relationships across the files\n",
    "Field/feature transformations\n",
    "Determine which files should be joined versus which ones should be appended\n",
    "Create master data and explain the relationship\n",
    "Identify and remove duplicates\n",
    "Perform other analysis like NA value and outlier detection\n",
    "im"
   ]
  },
  {
   "cell_type": "markdown",
   "id": "27470c5a",
   "metadata": {},
   "source": [
    "### import required Library"
   ]
  },
  {
   "cell_type": "code",
   "execution_count": 83,
   "id": "04aa37c9",
   "metadata": {},
   "outputs": [],
   "source": [
    "import numpy as np\n",
    "import pandas as pd\n",
    "import seaborn as sns\n",
    "import matplotlib.pyplot as plt"
   ]
  },
  {
   "cell_type": "markdown",
   "id": "22766cbe",
   "metadata": {},
   "source": [
    "### Read the Dataset"
   ]
  },
  {
   "cell_type": "code",
   "execution_count": 180,
   "id": "25fb0247",
   "metadata": {},
   "outputs": [],
   "source": [
    "cab_data = pd.read_csv('/Users/shalu/Downloads/DataSets-main/Cab_Data.csv')\n",
    "customer_data = pd.read_csv('/Users/shalu/Downloads/DataSets-main/Customer_ID.csv')\n",
    "city_data=pd.read_csv('/Users/shalu/Downloads/DataSets-main/city.csv')\n",
    "tran_data=pd.read_csv('/Users/shalu/Downloads/DataSets-main/Transaction_ID.csv')"
   ]
  },
  {
   "cell_type": "code",
   "execution_count": 181,
   "id": "e15d75d6",
   "metadata": {},
   "outputs": [
    {
     "name": "stdout",
     "output_type": "stream",
     "text": [
      "shape of Cab_Data (359392, 7)\n",
      "shape of customer_data (49171, 4)\n",
      "shape of city_data (20, 3)\n",
      "shape of tran_data (440098, 3)\n"
     ]
    }
   ],
   "source": [
    "print(\"shape of Cab_Data\", cab_data.shape)\n",
    "print(\"shape of customer_data\", customer_data.shape)\n",
    "print(\"shape of city_data\", city_data.shape)\n",
    "print(\"shape of tran_data\", tran_data.shape)"
   ]
  },
  {
   "cell_type": "code",
   "execution_count": 182,
   "id": "47c50366",
   "metadata": {},
   "outputs": [],
   "source": [
    "from datetime import datetime, timedelta\n",
    "def to_date_format(n):\n",
    "    date_str =(datetime(1899,12,30) + timedelta(n-1)).strftime(\"%d-%m-%Y\")\n",
    "    date_date =  datetime.strptime(date_str, \"%d-%m-%Y\")\n",
    "    return date_date"
   ]
  },
  {
   "cell_type": "code",
   "execution_count": 183,
   "id": "ebb621c9",
   "metadata": {},
   "outputs": [],
   "source": [
    "cab_data['Date of Travel'] = cab_data['Date of Travel'].apply(lambda x:to_date_format(x))\n"
   ]
  },
  {
   "cell_type": "code",
   "execution_count": 184,
   "id": "7beff5cb",
   "metadata": {},
   "outputs": [
    {
     "data": {
      "text/html": [
       "<div>\n",
       "<style scoped>\n",
       "    .dataframe tbody tr th:only-of-type {\n",
       "        vertical-align: middle;\n",
       "    }\n",
       "\n",
       "    .dataframe tbody tr th {\n",
       "        vertical-align: top;\n",
       "    }\n",
       "\n",
       "    .dataframe thead th {\n",
       "        text-align: right;\n",
       "    }\n",
       "</style>\n",
       "<table border=\"1\" class=\"dataframe\">\n",
       "  <thead>\n",
       "    <tr style=\"text-align: right;\">\n",
       "      <th></th>\n",
       "      <th>Transaction ID</th>\n",
       "      <th>Date of Travel</th>\n",
       "      <th>Company</th>\n",
       "      <th>City</th>\n",
       "      <th>KM Travelled</th>\n",
       "      <th>Price Charged</th>\n",
       "      <th>Cost of Trip</th>\n",
       "    </tr>\n",
       "  </thead>\n",
       "  <tbody>\n",
       "    <tr>\n",
       "      <th>0</th>\n",
       "      <td>10000011</td>\n",
       "      <td>2016-01-07</td>\n",
       "      <td>Pink Cab</td>\n",
       "      <td>ATLANTA GA</td>\n",
       "      <td>30.45</td>\n",
       "      <td>370.95</td>\n",
       "      <td>313.635</td>\n",
       "    </tr>\n",
       "    <tr>\n",
       "      <th>1</th>\n",
       "      <td>10000012</td>\n",
       "      <td>2016-01-05</td>\n",
       "      <td>Pink Cab</td>\n",
       "      <td>ATLANTA GA</td>\n",
       "      <td>28.62</td>\n",
       "      <td>358.52</td>\n",
       "      <td>334.854</td>\n",
       "    </tr>\n",
       "    <tr>\n",
       "      <th>2</th>\n",
       "      <td>10000013</td>\n",
       "      <td>2016-01-01</td>\n",
       "      <td>Pink Cab</td>\n",
       "      <td>ATLANTA GA</td>\n",
       "      <td>9.04</td>\n",
       "      <td>125.20</td>\n",
       "      <td>97.632</td>\n",
       "    </tr>\n",
       "    <tr>\n",
       "      <th>3</th>\n",
       "      <td>10000014</td>\n",
       "      <td>2016-01-06</td>\n",
       "      <td>Pink Cab</td>\n",
       "      <td>ATLANTA GA</td>\n",
       "      <td>33.17</td>\n",
       "      <td>377.40</td>\n",
       "      <td>351.602</td>\n",
       "    </tr>\n",
       "    <tr>\n",
       "      <th>4</th>\n",
       "      <td>10000015</td>\n",
       "      <td>2016-01-02</td>\n",
       "      <td>Pink Cab</td>\n",
       "      <td>ATLANTA GA</td>\n",
       "      <td>8.73</td>\n",
       "      <td>114.62</td>\n",
       "      <td>97.776</td>\n",
       "    </tr>\n",
       "  </tbody>\n",
       "</table>\n",
       "</div>"
      ],
      "text/plain": [
       "   Transaction ID Date of Travel   Company        City  KM Travelled  \\\n",
       "0        10000011     2016-01-07  Pink Cab  ATLANTA GA         30.45   \n",
       "1        10000012     2016-01-05  Pink Cab  ATLANTA GA         28.62   \n",
       "2        10000013     2016-01-01  Pink Cab  ATLANTA GA          9.04   \n",
       "3        10000014     2016-01-06  Pink Cab  ATLANTA GA         33.17   \n",
       "4        10000015     2016-01-02  Pink Cab  ATLANTA GA          8.73   \n",
       "\n",
       "   Price Charged  Cost of Trip  \n",
       "0         370.95       313.635  \n",
       "1         358.52       334.854  \n",
       "2         125.20        97.632  \n",
       "3         377.40       351.602  \n",
       "4         114.62        97.776  "
      ]
     },
     "execution_count": 184,
     "metadata": {},
     "output_type": "execute_result"
    }
   ],
   "source": [
    "cab_data.head()"
   ]
  },
  {
   "cell_type": "code",
   "execution_count": 185,
   "id": "0d4b1ccb",
   "metadata": {},
   "outputs": [],
   "source": [
    "profit = cab_data['Price Charged']-cab_data['Cost of Trip']\n",
    "cab_data['profit']=profit"
   ]
  },
  {
   "cell_type": "markdown",
   "id": "8b8b4aca",
   "metadata": {},
   "source": [
    "## Data Cleaning and visualization."
   ]
  },
  {
   "cell_type": "code",
   "execution_count": 186,
   "id": "447599ba",
   "metadata": {},
   "outputs": [
    {
     "data": {
      "text/plain": [
       "[Text(0.5, 1.0, 'Profit vs City')]"
      ]
     },
     "execution_count": 186,
     "metadata": {},
     "output_type": "execute_result"
    },
    {
     "data": {
      "image/png": "[encoded data removed]",
      "text/plain": [
       "<Figure size 432x288 with 1 Axes>"
      ]
     },
     "metadata": {
      "needs_background": "light"
     },
     "output_type": "display_data"
    }
   ],
   "source": [
    "sns.barplot(x='profit',\n",
    "            y='City', \n",
    "            hue='Company', \n",
    "        \n",
    "            data = cab_data, \n",
    "            orient='h',\n",
    "            palette=['pink','yellow']).set(title='Profit vs City')"
   ]
  },
  {
   "cell_type": "code",
   "execution_count": 177,
   "id": "5e969e32",
   "metadata": {},
   "outputs": [
    {
     "data": {
      "text/plain": [
       "[Text(0.5, 1.0, 'Price charged vs Distance')]"
      ]
     },
     "execution_count": 177,
     "metadata": {},
     "output_type": "execute_result"
    },
    {
     "data": {
      "image/png": "[encoded data removed]",
      "text/plain": [
       "<Figure size 432x288 with 1 Axes>"
      ]
     },
     "metadata": {
      "needs_background": "light"
     },
     "output_type": "display_data"
    }
   ],
   "source": [
    "sns.lineplot(x='KM Travelled',\n",
    "            y='Price Charged', \n",
    "            hue='Company', \n",
    "        \n",
    "            data = cab_data, \n",
    "            palette=['pink','yellow']).set(title='Price charged vs Distance')"
   ]
  },
  {
   "cell_type": "code",
   "execution_count": 95,
   "id": "b80ac0a1",
   "metadata": {},
   "outputs": [
    {
     "data": {
      "text/plain": [
       "Transaction ID             int64\n",
       "Date of Travel    datetime64[ns]\n",
       "Company                   object\n",
       "City                      object\n",
       "KM Travelled             float64\n",
       "Price Charged            float64\n",
       "Cost of Trip             float64\n",
       "profit                   float64\n",
       "month                      int64\n",
       "dtype: object"
      ]
     },
     "execution_count": 95,
     "metadata": {},
     "output_type": "execute_result"
    }
   ],
   "source": [
    "cab_data.dtypes"
   ]
  },
  {
   "cell_type": "code",
   "execution_count": 96,
   "id": "d08908fd",
   "metadata": {},
   "outputs": [],
   "source": [
    "date= cab_data['Date of Travel']"
   ]
  },
  {
   "cell_type": "code",
   "execution_count": 97,
   "id": "44f420e6",
   "metadata": {},
   "outputs": [],
   "source": [
    "cab_data['month'] = pd.DatetimeIndex(cab_data['Date of Travel']).month\n"
   ]
  },
  {
   "cell_type": "code",
   "execution_count": 98,
   "id": "9da0c316",
   "metadata": {},
   "outputs": [
    {
     "data": {
      "text/plain": [
       "0         1\n",
       "1         1\n",
       "2         1\n",
       "3         1\n",
       "4         1\n",
       "         ..\n",
       "359387    1\n",
       "359388    1\n",
       "359389    1\n",
       "359390    1\n",
       "359391    1\n",
       "Name: month, Length: 359392, dtype: int64"
      ]
     },
     "execution_count": 98,
     "metadata": {},
     "output_type": "execute_result"
    }
   ],
   "source": [
    "cab_data['month']"
   ]
  },
  {
   "cell_type": "code",
   "execution_count": 178,
   "id": "d5e268b1",
   "metadata": {},
   "outputs": [
    {
     "data": {
      "text/plain": [
       "[Text(0.5, 1.0, 'no. of Transaction vs month')]"
      ]
     },
     "execution_count": 178,
     "metadata": {},
     "output_type": "execute_result"
    },
    {
     "data": {
      "image/png": "[encoded data removed]",
      "text/plain": [
       "<Figure size 432x288 with 1 Axes>"
      ]
     },
     "metadata": {
      "needs_background": "light"
     },
     "output_type": "display_data"
    }
   ],
   "source": [
    "#Month vs Transaction Count\n",
    "cab_data.groupby(by=['month','Company'])['Transaction ID'].count().unstack().plot(kind='bar', color=['r', 'g']).set(title='no. of Transaction vs month')"
   ]
  },
  {
   "cell_type": "code",
   "execution_count": 100,
   "id": "1ad228ba",
   "metadata": {},
   "outputs": [
    {
     "data": {
      "text/html": [
       "<div>\n",
       "<style scoped>\n",
       "    .dataframe tbody tr th:only-of-type {\n",
       "        vertical-align: middle;\n",
       "    }\n",
       "\n",
       "    .dataframe tbody tr th {\n",
       "        vertical-align: top;\n",
       "    }\n",
       "\n",
       "    .dataframe thead th {\n",
       "        text-align: right;\n",
       "    }\n",
       "</style>\n",
       "<table border=\"1\" class=\"dataframe\">\n",
       "  <thead>\n",
       "    <tr style=\"text-align: right;\">\n",
       "      <th></th>\n",
       "      <th>Customer ID</th>\n",
       "      <th>Gender</th>\n",
       "      <th>Age</th>\n",
       "      <th>Income (USD/Month)</th>\n",
       "    </tr>\n",
       "  </thead>\n",
       "  <tbody>\n",
       "    <tr>\n",
       "      <th>0</th>\n",
       "      <td>29290</td>\n",
       "      <td>Male</td>\n",
       "      <td>28</td>\n",
       "      <td>10813</td>\n",
       "    </tr>\n",
       "    <tr>\n",
       "      <th>1</th>\n",
       "      <td>27703</td>\n",
       "      <td>Male</td>\n",
       "      <td>27</td>\n",
       "      <td>9237</td>\n",
       "    </tr>\n",
       "    <tr>\n",
       "      <th>2</th>\n",
       "      <td>28712</td>\n",
       "      <td>Male</td>\n",
       "      <td>53</td>\n",
       "      <td>11242</td>\n",
       "    </tr>\n",
       "    <tr>\n",
       "      <th>3</th>\n",
       "      <td>28020</td>\n",
       "      <td>Male</td>\n",
       "      <td>23</td>\n",
       "      <td>23327</td>\n",
       "    </tr>\n",
       "    <tr>\n",
       "      <th>4</th>\n",
       "      <td>27182</td>\n",
       "      <td>Male</td>\n",
       "      <td>33</td>\n",
       "      <td>8536</td>\n",
       "    </tr>\n",
       "  </tbody>\n",
       "</table>\n",
       "</div>"
      ],
      "text/plain": [
       "   Customer ID Gender  Age  Income (USD/Month)\n",
       "0        29290   Male   28               10813\n",
       "1        27703   Male   27                9237\n",
       "2        28712   Male   53               11242\n",
       "3        28020   Male   23               23327\n",
       "4        27182   Male   33                8536"
      ]
     },
     "execution_count": 100,
     "metadata": {},
     "output_type": "execute_result"
    }
   ],
   "source": [
    "customer_data.head()"
   ]
  },
  {
   "cell_type": "code",
   "execution_count": 101,
   "id": "e503c2ad",
   "metadata": {},
   "outputs": [
    {
     "data": {
      "text/plain": [
       "<AxesSubplot:xlabel='Gender', ylabel='Customer ID'>"
      ]
     },
     "execution_count": 101,
     "metadata": {},
     "output_type": "execute_result"
    },
    {
     "data": {
      "image/png": "[encoded data removed]",
      "text/plain": [
       "<Figure size 432x288 with 1 Axes>"
      ]
     },
     "metadata": {
      "needs_background": "light"
     },
     "output_type": "display_data"
    }
   ],
   "source": [
    "sns.barplot(x='Gender', y='Customer ID', data= customer_data)"
   ]
  },
  {
   "cell_type": "code",
   "execution_count": 102,
   "id": "0a3201f2",
   "metadata": {},
   "outputs": [
    {
     "data": {
      "text/plain": [
       "<AxesSubplot:xlabel='Age', ylabel='Customer ID'>"
      ]
     },
     "execution_count": 102,
     "metadata": {},
     "output_type": "execute_result"
    },
    {
     "data": {
      "image/png": "[encoded data removed]",
      "text/plain": [
       "<Figure size 432x288 with 1 Axes>"
      ]
     },
     "metadata": {
      "needs_background": "light"
     },
     "output_type": "display_data"
    }
   ],
   "source": [
    "sns.lineplot(x='Age', y='Customer ID', ci= 75, data= customer_data)"
   ]
  },
  {
   "cell_type": "code",
   "execution_count": 104,
   "id": "0429d3ac",
   "metadata": {},
   "outputs": [
    {
     "data": {
      "text/plain": [
       "(359392, 9)"
      ]
     },
     "execution_count": 104,
     "metadata": {},
     "output_type": "execute_result"
    }
   ],
   "source": [
    "cab_data.shape"
   ]
  },
  {
   "cell_type": "code",
   "execution_count": 105,
   "id": "263a2b2b",
   "metadata": {},
   "outputs": [
    {
     "data": {
      "text/plain": [
       "(440098, 3)"
      ]
     },
     "execution_count": 105,
     "metadata": {},
     "output_type": "execute_result"
    }
   ],
   "source": [
    "tran_data.shape"
   ]
  },
  {
   "cell_type": "code",
   "execution_count": 106,
   "id": "3b57b013",
   "metadata": {},
   "outputs": [
    {
     "data": {
      "text/plain": [
       "(49171, 4)"
      ]
     },
     "execution_count": 106,
     "metadata": {},
     "output_type": "execute_result"
    }
   ],
   "source": [
    "customer_data.shape"
   ]
  },
  {
   "cell_type": "markdown",
   "id": "21b2b8ef",
   "metadata": {},
   "source": [
    "# Creating Master Data"
   ]
  },
  {
   "cell_type": "code",
   "execution_count": 107,
   "id": "23b1e0dd",
   "metadata": {},
   "outputs": [],
   "source": [
    "data1=pd.merge(cab_data,tran_data,on='Transaction ID',how='left')\n"
   ]
  },
  {
   "cell_type": "code",
   "execution_count": 108,
   "id": "3a4ebff7",
   "metadata": {},
   "outputs": [
    {
     "data": {
      "text/html": [
       "<div>\n",
       "<style scoped>\n",
       "    .dataframe tbody tr th:only-of-type {\n",
       "        vertical-align: middle;\n",
       "    }\n",
       "\n",
       "    .dataframe tbody tr th {\n",
       "        vertical-align: top;\n",
       "    }\n",
       "\n",
       "    .dataframe thead th {\n",
       "        text-align: right;\n",
       "    }\n",
       "</style>\n",
       "<table border=\"1\" class=\"dataframe\">\n",
       "  <thead>\n",
       "    <tr style=\"text-align: right;\">\n",
       "      <th></th>\n",
       "      <th>Transaction ID</th>\n",
       "      <th>Date of Travel</th>\n",
       "      <th>Company</th>\n",
       "      <th>City</th>\n",
       "      <th>KM Travelled</th>\n",
       "      <th>Price Charged</th>\n",
       "      <th>Cost of Trip</th>\n",
       "      <th>profit</th>\n",
       "      <th>month</th>\n",
       "      <th>Customer ID</th>\n",
       "      <th>Payment_Mode</th>\n",
       "    </tr>\n",
       "  </thead>\n",
       "  <tbody>\n",
       "    <tr>\n",
       "      <th>0</th>\n",
       "      <td>10000011</td>\n",
       "      <td>2016-01-07</td>\n",
       "      <td>Pink Cab</td>\n",
       "      <td>ATLANTA GA</td>\n",
       "      <td>30.45</td>\n",
       "      <td>370.95</td>\n",
       "      <td>313.635</td>\n",
       "      <td>57.315</td>\n",
       "      <td>1</td>\n",
       "      <td>29290</td>\n",
       "      <td>Card</td>\n",
       "    </tr>\n",
       "    <tr>\n",
       "      <th>1</th>\n",
       "      <td>10000012</td>\n",
       "      <td>2016-01-05</td>\n",
       "      <td>Pink Cab</td>\n",
       "      <td>ATLANTA GA</td>\n",
       "      <td>28.62</td>\n",
       "      <td>358.52</td>\n",
       "      <td>334.854</td>\n",
       "      <td>23.666</td>\n",
       "      <td>1</td>\n",
       "      <td>27703</td>\n",
       "      <td>Card</td>\n",
       "    </tr>\n",
       "    <tr>\n",
       "      <th>2</th>\n",
       "      <td>10000013</td>\n",
       "      <td>2016-01-01</td>\n",
       "      <td>Pink Cab</td>\n",
       "      <td>ATLANTA GA</td>\n",
       "      <td>9.04</td>\n",
       "      <td>125.20</td>\n",
       "      <td>97.632</td>\n",
       "      <td>27.568</td>\n",
       "      <td>1</td>\n",
       "      <td>28712</td>\n",
       "      <td>Cash</td>\n",
       "    </tr>\n",
       "    <tr>\n",
       "      <th>3</th>\n",
       "      <td>10000014</td>\n",
       "      <td>2016-01-06</td>\n",
       "      <td>Pink Cab</td>\n",
       "      <td>ATLANTA GA</td>\n",
       "      <td>33.17</td>\n",
       "      <td>377.40</td>\n",
       "      <td>351.602</td>\n",
       "      <td>25.798</td>\n",
       "      <td>1</td>\n",
       "      <td>28020</td>\n",
       "      <td>Cash</td>\n",
       "    </tr>\n",
       "    <tr>\n",
       "      <th>4</th>\n",
       "      <td>10000015</td>\n",
       "      <td>2016-01-02</td>\n",
       "      <td>Pink Cab</td>\n",
       "      <td>ATLANTA GA</td>\n",
       "      <td>8.73</td>\n",
       "      <td>114.62</td>\n",
       "      <td>97.776</td>\n",
       "      <td>16.844</td>\n",
       "      <td>1</td>\n",
       "      <td>27182</td>\n",
       "      <td>Card</td>\n",
       "    </tr>\n",
       "  </tbody>\n",
       "</table>\n",
       "</div>"
      ],
      "text/plain": [
       "   Transaction ID Date of Travel   Company        City  KM Travelled  \\\n",
       "0        10000011     2016-01-07  Pink Cab  ATLANTA GA         30.45   \n",
       "1        10000012     2016-01-05  Pink Cab  ATLANTA GA         28.62   \n",
       "2        10000013     2016-01-01  Pink Cab  ATLANTA GA          9.04   \n",
       "3        10000014     2016-01-06  Pink Cab  ATLANTA GA         33.17   \n",
       "4        10000015     2016-01-02  Pink Cab  ATLANTA GA          8.73   \n",
       "\n",
       "   Price Charged  Cost of Trip  profit  month  Customer ID Payment_Mode  \n",
       "0         370.95       313.635  57.315      1        29290         Card  \n",
       "1         358.52       334.854  23.666      1        27703         Card  \n",
       "2         125.20        97.632  27.568      1        28712         Cash  \n",
       "3         377.40       351.602  25.798      1        28020         Cash  \n",
       "4         114.62        97.776  16.844      1        27182         Card  "
      ]
     },
     "execution_count": 108,
     "metadata": {},
     "output_type": "execute_result"
    }
   ],
   "source": [
    "data1.head()"
   ]
  },
  {
   "cell_type": "code",
   "execution_count": 109,
   "id": "27f8e7c0",
   "metadata": {},
   "outputs": [],
   "source": [
    "master_data=pd.merge(data1,customer_data,on='Customer ID',how='left')\n"
   ]
  },
  {
   "cell_type": "code",
   "execution_count": 110,
   "id": "45debff5",
   "metadata": {},
   "outputs": [
    {
     "data": {
      "text/html": [
       "<div>\n",
       "<style scoped>\n",
       "    .dataframe tbody tr th:only-of-type {\n",
       "        vertical-align: middle;\n",
       "    }\n",
       "\n",
       "    .dataframe tbody tr th {\n",
       "        vertical-align: top;\n",
       "    }\n",
       "\n",
       "    .dataframe thead th {\n",
       "        text-align: right;\n",
       "    }\n",
       "</style>\n",
       "<table border=\"1\" class=\"dataframe\">\n",
       "  <thead>\n",
       "    <tr style=\"text-align: right;\">\n",
       "      <th></th>\n",
       "      <th>Transaction ID</th>\n",
       "      <th>Date of Travel</th>\n",
       "      <th>Company</th>\n",
       "      <th>City</th>\n",
       "      <th>KM Travelled</th>\n",
       "      <th>Price Charged</th>\n",
       "      <th>Cost of Trip</th>\n",
       "      <th>profit</th>\n",
       "      <th>month</th>\n",
       "      <th>Customer ID</th>\n",
       "      <th>Payment_Mode</th>\n",
       "      <th>Gender</th>\n",
       "      <th>Age</th>\n",
       "      <th>Income (USD/Month)</th>\n",
       "    </tr>\n",
       "  </thead>\n",
       "  <tbody>\n",
       "    <tr>\n",
       "      <th>0</th>\n",
       "      <td>10000011</td>\n",
       "      <td>2016-01-07</td>\n",
       "      <td>Pink Cab</td>\n",
       "      <td>ATLANTA GA</td>\n",
       "      <td>30.45</td>\n",
       "      <td>370.95</td>\n",
       "      <td>313.635</td>\n",
       "      <td>57.315</td>\n",
       "      <td>1</td>\n",
       "      <td>29290</td>\n",
       "      <td>Card</td>\n",
       "      <td>Male</td>\n",
       "      <td>28</td>\n",
       "      <td>10813</td>\n",
       "    </tr>\n",
       "    <tr>\n",
       "      <th>1</th>\n",
       "      <td>10000012</td>\n",
       "      <td>2016-01-05</td>\n",
       "      <td>Pink Cab</td>\n",
       "      <td>ATLANTA GA</td>\n",
       "      <td>28.62</td>\n",
       "      <td>358.52</td>\n",
       "      <td>334.854</td>\n",
       "      <td>23.666</td>\n",
       "      <td>1</td>\n",
       "      <td>27703</td>\n",
       "      <td>Card</td>\n",
       "      <td>Male</td>\n",
       "      <td>27</td>\n",
       "      <td>9237</td>\n",
       "    </tr>\n",
       "    <tr>\n",
       "      <th>2</th>\n",
       "      <td>10000013</td>\n",
       "      <td>2016-01-01</td>\n",
       "      <td>Pink Cab</td>\n",
       "      <td>ATLANTA GA</td>\n",
       "      <td>9.04</td>\n",
       "      <td>125.20</td>\n",
       "      <td>97.632</td>\n",
       "      <td>27.568</td>\n",
       "      <td>1</td>\n",
       "      <td>28712</td>\n",
       "      <td>Cash</td>\n",
       "      <td>Male</td>\n",
       "      <td>53</td>\n",
       "      <td>11242</td>\n",
       "    </tr>\n",
       "    <tr>\n",
       "      <th>3</th>\n",
       "      <td>10000014</td>\n",
       "      <td>2016-01-06</td>\n",
       "      <td>Pink Cab</td>\n",
       "      <td>ATLANTA GA</td>\n",
       "      <td>33.17</td>\n",
       "      <td>377.40</td>\n",
       "      <td>351.602</td>\n",
       "      <td>25.798</td>\n",
       "      <td>1</td>\n",
       "      <td>28020</td>\n",
       "      <td>Cash</td>\n",
       "      <td>Male</td>\n",
       "      <td>23</td>\n",
       "      <td>23327</td>\n",
       "    </tr>\n",
       "    <tr>\n",
       "      <th>4</th>\n",
       "      <td>10000015</td>\n",
       "      <td>2016-01-02</td>\n",
       "      <td>Pink Cab</td>\n",
       "      <td>ATLANTA GA</td>\n",
       "      <td>8.73</td>\n",
       "      <td>114.62</td>\n",
       "      <td>97.776</td>\n",
       "      <td>16.844</td>\n",
       "      <td>1</td>\n",
       "      <td>27182</td>\n",
       "      <td>Card</td>\n",
       "      <td>Male</td>\n",
       "      <td>33</td>\n",
       "      <td>8536</td>\n",
       "    </tr>\n",
       "  </tbody>\n",
       "</table>\n",
       "</div>"
      ],
      "text/plain": [
       "   Transaction ID Date of Travel   Company        City  KM Travelled  \\\n",
       "0        10000011     2016-01-07  Pink Cab  ATLANTA GA         30.45   \n",
       "1        10000012     2016-01-05  Pink Cab  ATLANTA GA         28.62   \n",
       "2        10000013     2016-01-01  Pink Cab  ATLANTA GA          9.04   \n",
       "3        10000014     2016-01-06  Pink Cab  ATLANTA GA         33.17   \n",
       "4        10000015     2016-01-02  Pink Cab  ATLANTA GA          8.73   \n",
       "\n",
       "   Price Charged  Cost of Trip  profit  month  Customer ID Payment_Mode  \\\n",
       "0         370.95       313.635  57.315      1        29290         Card   \n",
       "1         358.52       334.854  23.666      1        27703         Card   \n",
       "2         125.20        97.632  27.568      1        28712         Cash   \n",
       "3         377.40       351.602  25.798      1        28020         Cash   \n",
       "4         114.62        97.776  16.844      1        27182         Card   \n",
       "\n",
       "  Gender  Age  Income (USD/Month)  \n",
       "0   Male   28               10813  \n",
       "1   Male   27                9237  \n",
       "2   Male   53               11242  \n",
       "3   Male   23               23327  \n",
       "4   Male   33                8536  "
      ]
     },
     "execution_count": 110,
     "metadata": {},
     "output_type": "execute_result"
    }
   ],
   "source": [
    "master_data.head()"
   ]
  },
  {
   "cell_type": "code",
   "execution_count": 111,
   "id": "ef050359",
   "metadata": {},
   "outputs": [
    {
     "data": {
      "text/plain": [
       "(359392, 14)"
      ]
     },
     "execution_count": 111,
     "metadata": {},
     "output_type": "execute_result"
    }
   ],
   "source": [
    "master_data.shape"
   ]
  },
  {
   "cell_type": "code",
   "execution_count": 112,
   "id": "89f50da8",
   "metadata": {},
   "outputs": [
    {
     "name": "stdout",
     "output_type": "stream",
     "text": [
      "<class 'pandas.core.frame.DataFrame'>\n",
      "Int64Index: 359392 entries, 0 to 359391\n",
      "Data columns (total 14 columns):\n",
      " #   Column              Non-Null Count   Dtype         \n",
      "---  ------              --------------   -----         \n",
      " 0   Transaction ID      359392 non-null  int64         \n",
      " 1   Date of Travel      359392 non-null  datetime64[ns]\n",
      " 2   Company             359392 non-null  object        \n",
      " 3   City                359392 non-null  object        \n",
      " 4   KM Travelled        359392 non-null  float64       \n",
      " 5   Price Charged       359392 non-null  float64       \n",
      " 6   Cost of Trip        359392 non-null  float64       \n",
      " 7   profit              359392 non-null  float64       \n",
      " 8   month               359392 non-null  int64         \n",
      " 9   Customer ID         359392 non-null  int64         \n",
      " 10  Payment_Mode        359392 non-null  object        \n",
      " 11  Gender              359392 non-null  object        \n",
      " 12  Age                 359392 non-null  int64         \n",
      " 13  Income (USD/Month)  359392 non-null  int64         \n",
      "dtypes: datetime64[ns](1), float64(4), int64(5), object(4)\n",
      "memory usage: 41.1+ MB\n"
     ]
    }
   ],
   "source": [
    "master_data.info()"
   ]
  },
  {
   "cell_type": "code",
   "execution_count": 78,
   "id": "56701c62",
   "metadata": {},
   "outputs": [
    {
     "data": {
      "text/plain": [
       "0"
      ]
     },
     "execution_count": 78,
     "metadata": {},
     "output_type": "execute_result"
    }
   ],
   "source": [
    "master_data.isna().sum().sum()"
   ]
  },
  {
   "cell_type": "markdown",
   "id": "fb221252",
   "metadata": {},
   "source": [
    "## No null value found in master data."
   ]
  },
  {
   "cell_type": "code",
   "execution_count": 113,
   "id": "9be438a3",
   "metadata": {},
   "outputs": [],
   "source": [
    "master_data['year'] = pd.DatetimeIndex(master_data['Date of Travel']).year\n"
   ]
  },
  {
   "cell_type": "code",
   "execution_count": 114,
   "id": "0177b578",
   "metadata": {},
   "outputs": [
    {
     "name": "stdout",
     "output_type": "stream",
     "text": [
      "<class 'pandas.core.frame.DataFrame'>\n",
      "Int64Index: 359392 entries, 0 to 359391\n",
      "Data columns (total 15 columns):\n",
      " #   Column              Non-Null Count   Dtype         \n",
      "---  ------              --------------   -----         \n",
      " 0   Transaction ID      359392 non-null  int64         \n",
      " 1   Date of Travel      359392 non-null  datetime64[ns]\n",
      " 2   Company             359392 non-null  object        \n",
      " 3   City                359392 non-null  object        \n",
      " 4   KM Travelled        359392 non-null  float64       \n",
      " 5   Price Charged       359392 non-null  float64       \n",
      " 6   Cost of Trip        359392 non-null  float64       \n",
      " 7   profit              359392 non-null  float64       \n",
      " 8   month               359392 non-null  int64         \n",
      " 9   Customer ID         359392 non-null  int64         \n",
      " 10  Payment_Mode        359392 non-null  object        \n",
      " 11  Gender              359392 non-null  object        \n",
      " 12  Age                 359392 non-null  int64         \n",
      " 13  Income (USD/Month)  359392 non-null  int64         \n",
      " 14  year                359392 non-null  int64         \n",
      "dtypes: datetime64[ns](1), float64(4), int64(6), object(4)\n",
      "memory usage: 43.9+ MB\n"
     ]
    }
   ],
   "source": [
    "master_data.info()"
   ]
  },
  {
   "cell_type": "code",
   "execution_count": 115,
   "id": "ae39436c",
   "metadata": {},
   "outputs": [],
   "source": [
    "def checkAgeRange(age):\n",
    "    las_dig=age%10\n",
    "    range_age=str.format('{0}-{1}',age-las_dig,((age-las_dig)+10))\n",
    "    return range_age"
   ]
  },
  {
   "cell_type": "code",
   "execution_count": 116,
   "id": "3a9cf1cf",
   "metadata": {},
   "outputs": [
    {
     "name": "stdout",
     "output_type": "stream",
     "text": [
      "        Transaction ID Date of Travel     Company           City  \\\n",
      "0             10000011     2016-01-07    Pink Cab     ATLANTA GA   \n",
      "1             10000012     2016-01-05    Pink Cab     ATLANTA GA   \n",
      "2             10000013     2016-01-01    Pink Cab     ATLANTA GA   \n",
      "3             10000014     2016-01-06    Pink Cab     ATLANTA GA   \n",
      "4             10000015     2016-01-02    Pink Cab     ATLANTA GA   \n",
      "...                ...            ...         ...            ...   \n",
      "359387        10440101     2018-01-07  Yellow Cab  WASHINGTON DC   \n",
      "359388        10440104     2018-01-03  Yellow Cab  WASHINGTON DC   \n",
      "359389        10440105     2018-01-04  Yellow Cab  WASHINGTON DC   \n",
      "359390        10440106     2018-01-04  Yellow Cab  WASHINGTON DC   \n",
      "359391        10440107     2018-01-01  Yellow Cab  WASHINGTON DC   \n",
      "\n",
      "        KM Travelled  Price Charged  Cost of Trip   profit  month  \\\n",
      "0              30.45         370.95      313.6350  57.3150      1   \n",
      "1              28.62         358.52      334.8540  23.6660      1   \n",
      "2               9.04         125.20       97.6320  27.5680      1   \n",
      "3              33.17         377.40      351.6020  25.7980      1   \n",
      "4               8.73         114.62       97.7760  16.8440      1   \n",
      "...              ...            ...           ...      ...    ...   \n",
      "359387          4.80          69.24       63.3600   5.8800      1   \n",
      "359388          8.40         113.75      106.8480   6.9020      1   \n",
      "359389         27.75         437.07      349.6500  87.4200      1   \n",
      "359390          8.80         146.19      114.0480  32.1420      1   \n",
      "359391         12.76         191.58      177.6192  13.9608      1   \n",
      "\n",
      "        Customer ID Payment_Mode Gender  Age  Income (USD/Month)  year  \\\n",
      "0             29290         Card   Male   28               10813  2016   \n",
      "1             27703         Card   Male   27                9237  2016   \n",
      "2             28712         Cash   Male   53               11242  2016   \n",
      "3             28020         Cash   Male   23               23327  2016   \n",
      "4             27182         Card   Male   33                8536  2016   \n",
      "...             ...          ...    ...  ...                 ...   ...   \n",
      "359387        52392         Cash   Male   24               15651  2018   \n",
      "359388        53286         Cash   Male   32                6528  2018   \n",
      "359389        52265         Cash   Male   56                7966  2018   \n",
      "359390        52175         Card   Male   32                6423  2018   \n",
      "359391        52917         Card   Male   20               11284  2018   \n",
      "\n",
      "       AgeGroup  \n",
      "0         20-30  \n",
      "1         20-30  \n",
      "2         50-60  \n",
      "3         20-30  \n",
      "4         30-40  \n",
      "...         ...  \n",
      "359387    20-30  \n",
      "359388    30-40  \n",
      "359389    50-60  \n",
      "359390    30-40  \n",
      "359391    20-30  \n",
      "\n",
      "[359392 rows x 16 columns]\n"
     ]
    }
   ],
   "source": [
    "dataFrame= pd.DataFrame(data=master_data)\n",
    "dataFrame['AgeGroup']=dataFrame['Age'].apply(checkAgeRange)\n",
    "print(dataFrame)"
   ]
  },
  {
   "cell_type": "code",
   "execution_count": 117,
   "id": "1a064444",
   "metadata": {},
   "outputs": [
    {
     "data": {
      "text/html": [
       "<div>\n",
       "<style scoped>\n",
       "    .dataframe tbody tr th:only-of-type {\n",
       "        vertical-align: middle;\n",
       "    }\n",
       "\n",
       "    .dataframe tbody tr th {\n",
       "        vertical-align: top;\n",
       "    }\n",
       "\n",
       "    .dataframe thead th {\n",
       "        text-align: right;\n",
       "    }\n",
       "</style>\n",
       "<table border=\"1\" class=\"dataframe\">\n",
       "  <thead>\n",
       "    <tr style=\"text-align: right;\">\n",
       "      <th></th>\n",
       "      <th>Transaction ID</th>\n",
       "      <th>Date of Travel</th>\n",
       "      <th>Company</th>\n",
       "      <th>City</th>\n",
       "      <th>KM Travelled</th>\n",
       "      <th>Price Charged</th>\n",
       "      <th>Cost of Trip</th>\n",
       "      <th>profit</th>\n",
       "      <th>month</th>\n",
       "      <th>Customer ID</th>\n",
       "      <th>Payment_Mode</th>\n",
       "      <th>Gender</th>\n",
       "      <th>Age</th>\n",
       "      <th>Income (USD/Month)</th>\n",
       "      <th>year</th>\n",
       "      <th>AgeGroup</th>\n",
       "    </tr>\n",
       "  </thead>\n",
       "  <tbody>\n",
       "    <tr>\n",
       "      <th>0</th>\n",
       "      <td>10000011</td>\n",
       "      <td>2016-01-07</td>\n",
       "      <td>Pink Cab</td>\n",
       "      <td>ATLANTA GA</td>\n",
       "      <td>30.45</td>\n",
       "      <td>370.95</td>\n",
       "      <td>313.635</td>\n",
       "      <td>57.315</td>\n",
       "      <td>1</td>\n",
       "      <td>29290</td>\n",
       "      <td>Card</td>\n",
       "      <td>Male</td>\n",
       "      <td>28</td>\n",
       "      <td>10813</td>\n",
       "      <td>2016</td>\n",
       "      <td>20-30</td>\n",
       "    </tr>\n",
       "    <tr>\n",
       "      <th>1</th>\n",
       "      <td>10000012</td>\n",
       "      <td>2016-01-05</td>\n",
       "      <td>Pink Cab</td>\n",
       "      <td>ATLANTA GA</td>\n",
       "      <td>28.62</td>\n",
       "      <td>358.52</td>\n",
       "      <td>334.854</td>\n",
       "      <td>23.666</td>\n",
       "      <td>1</td>\n",
       "      <td>27703</td>\n",
       "      <td>Card</td>\n",
       "      <td>Male</td>\n",
       "      <td>27</td>\n",
       "      <td>9237</td>\n",
       "      <td>2016</td>\n",
       "      <td>20-30</td>\n",
       "    </tr>\n",
       "    <tr>\n",
       "      <th>2</th>\n",
       "      <td>10000013</td>\n",
       "      <td>2016-01-01</td>\n",
       "      <td>Pink Cab</td>\n",
       "      <td>ATLANTA GA</td>\n",
       "      <td>9.04</td>\n",
       "      <td>125.20</td>\n",
       "      <td>97.632</td>\n",
       "      <td>27.568</td>\n",
       "      <td>1</td>\n",
       "      <td>28712</td>\n",
       "      <td>Cash</td>\n",
       "      <td>Male</td>\n",
       "      <td>53</td>\n",
       "      <td>11242</td>\n",
       "      <td>2016</td>\n",
       "      <td>50-60</td>\n",
       "    </tr>\n",
       "    <tr>\n",
       "      <th>3</th>\n",
       "      <td>10000014</td>\n",
       "      <td>2016-01-06</td>\n",
       "      <td>Pink Cab</td>\n",
       "      <td>ATLANTA GA</td>\n",
       "      <td>33.17</td>\n",
       "      <td>377.40</td>\n",
       "      <td>351.602</td>\n",
       "      <td>25.798</td>\n",
       "      <td>1</td>\n",
       "      <td>28020</td>\n",
       "      <td>Cash</td>\n",
       "      <td>Male</td>\n",
       "      <td>23</td>\n",
       "      <td>23327</td>\n",
       "      <td>2016</td>\n",
       "      <td>20-30</td>\n",
       "    </tr>\n",
       "    <tr>\n",
       "      <th>4</th>\n",
       "      <td>10000015</td>\n",
       "      <td>2016-01-02</td>\n",
       "      <td>Pink Cab</td>\n",
       "      <td>ATLANTA GA</td>\n",
       "      <td>8.73</td>\n",
       "      <td>114.62</td>\n",
       "      <td>97.776</td>\n",
       "      <td>16.844</td>\n",
       "      <td>1</td>\n",
       "      <td>27182</td>\n",
       "      <td>Card</td>\n",
       "      <td>Male</td>\n",
       "      <td>33</td>\n",
       "      <td>8536</td>\n",
       "      <td>2016</td>\n",
       "      <td>30-40</td>\n",
       "    </tr>\n",
       "  </tbody>\n",
       "</table>\n",
       "</div>"
      ],
      "text/plain": [
       "   Transaction ID Date of Travel   Company        City  KM Travelled  \\\n",
       "0        10000011     2016-01-07  Pink Cab  ATLANTA GA         30.45   \n",
       "1        10000012     2016-01-05  Pink Cab  ATLANTA GA         28.62   \n",
       "2        10000013     2016-01-01  Pink Cab  ATLANTA GA          9.04   \n",
       "3        10000014     2016-01-06  Pink Cab  ATLANTA GA         33.17   \n",
       "4        10000015     2016-01-02  Pink Cab  ATLANTA GA          8.73   \n",
       "\n",
       "   Price Charged  Cost of Trip  profit  month  Customer ID Payment_Mode  \\\n",
       "0         370.95       313.635  57.315      1        29290         Card   \n",
       "1         358.52       334.854  23.666      1        27703         Card   \n",
       "2         125.20        97.632  27.568      1        28712         Cash   \n",
       "3         377.40       351.602  25.798      1        28020         Cash   \n",
       "4         114.62        97.776  16.844      1        27182         Card   \n",
       "\n",
       "  Gender  Age  Income (USD/Month)  year AgeGroup  \n",
       "0   Male   28               10813  2016    20-30  \n",
       "1   Male   27                9237  2016    20-30  \n",
       "2   Male   53               11242  2016    50-60  \n",
       "3   Male   23               23327  2016    20-30  \n",
       "4   Male   33                8536  2016    30-40  "
      ]
     },
     "execution_count": 117,
     "metadata": {},
     "output_type": "execute_result"
    }
   ],
   "source": [
    "master_data.head()"
   ]
  },
  {
   "cell_type": "code",
   "execution_count": 160,
   "id": "f981efc0",
   "metadata": {},
   "outputs": [
    {
     "data": {
      "text/plain": [
       "[Text(0.5, 1.0, 'Price Charged for Genders')]"
      ]
     },
     "execution_count": 160,
     "metadata": {},
     "output_type": "execute_result"
    },
    {
     "data": {
      "image/png": "[encoded data removed]",
      "text/plain": [
       "<Figure size 432x288 with 1 Axes>"
      ]
     },
     "metadata": {
      "needs_background": "light"
     },
     "output_type": "display_data"
    }
   ],
   "source": [
    "sns.barplot(x='Gender',\n",
    "            y='Price Charged', \n",
    "            hue='Company', \n",
    "            data = master_data, \n",
    "            palette=['pink','yellow']). set(title=\"Price Charged for Genders\")"
   ]
  },
  {
   "cell_type": "code",
   "execution_count": 159,
   "id": "6ccc7bb0",
   "metadata": {},
   "outputs": [
    {
     "data": {
      "text/plain": [
       "[Text(0.5, 1.0, 'Monthly profits')]"
      ]
     },
     "execution_count": 159,
     "metadata": {},
     "output_type": "execute_result"
    },
    {
     "data": {
      "image/png": "[encoded data removed]",
      "text/plain": [
       "<Figure size 432x288 with 1 Axes>"
      ]
     },
     "metadata": {
      "needs_background": "light"
     },
     "output_type": "display_data"
    }
   ],
   "source": [
    "sns.barplot(x='month',\n",
    "            y='profit', \n",
    "            hue='Company', \n",
    "        \n",
    "            data = master_data, \n",
    "            palette=['pink','yellow']).set(title=\"Monthly profits\")"
   ]
  },
  {
   "cell_type": "code",
   "execution_count": 164,
   "id": "cabe4eb7",
   "metadata": {},
   "outputs": [],
   "source": [
    "#Mean profits for both the companies\n",
    "mean_p = master_data[(master_data.Company=='Pink Cab')&(master_data.City=='DALLAS TX')].groupby(['year','month']).profit.mean()\n",
    "mean_y = master_data[(master_data.Company=='Yellow Cab')&(master_data.City=='DALLAS TX')].groupby(['year','month']).profit.mean()\n"
   ]
  },
  {
   "cell_type": "code",
   "execution_count": 165,
   "id": "f432df8a",
   "metadata": {},
   "outputs": [],
   "source": [
    "#Making datasets for avg monthly profit for both the companies\n",
    "data_p = pd.DataFrame({'Profit_pink':mean_p.values,'Tran_pink':master_data[master_data.Company=='Pink Cab'].groupby(['year','month'])['Transaction ID'].count().values})\n",
    "data_y = pd.DataFrame({'Profit_yellow':mean_y.values,'Tran_yellow':master_data[master_data.Company=='Yellow Cab'].groupby(['year','month'])['Transaction ID'].count().values})\n"
   ]
  },
  {
   "cell_type": "code",
   "execution_count": 166,
   "id": "e4c47d37",
   "metadata": {},
   "outputs": [
    {
     "data": {
      "text/plain": [
       "[Text(0.5, 1.0, 'Monthly Avg profit for YELLOW cab')]"
      ]
     },
     "execution_count": 166,
     "metadata": {},
     "output_type": "execute_result"
    },
    {
     "data": {
      "image/png": "[encoded data removed]",
      "text/plain": [
       "<Figure size 432x288 with 1 Axes>"
      ]
     },
     "metadata": {
      "needs_background": "light"
     },
     "output_type": "display_data"
    }
   ],
   "source": [
    "sns.scatterplot(x='Tran_yellow', y ='Profit_yellow', data= data_y).set(title=\"Monthly Avg profit for YELLOW cab\")"
   ]
  },
  {
   "cell_type": "markdown",
   "id": "92821f87",
   "metadata": {},
   "source": [
    "## We see that it is slightly negatively correlated for YELLOW cabs.\n",
    "## It means increase in transacion leads to decrease in profits."
   ]
  },
  {
   "cell_type": "code",
   "execution_count": 167,
   "id": "e41c628a",
   "metadata": {},
   "outputs": [
    {
     "data": {
      "text/plain": [
       "[Text(0.5, 1.0, 'Monthly Avg profit for PINK cab')]"
      ]
     },
     "execution_count": 167,
     "metadata": {},
     "output_type": "execute_result"
    },
    {
     "data": {
      "image/png": "[encoded data removed]",
      "text/plain": [
       "<Figure size 432x288 with 1 Axes>"
      ]
     },
     "metadata": {
      "needs_background": "light"
     },
     "output_type": "display_data"
    }
   ],
   "source": [
    "sns.scatterplot(x='Tran_pink', y ='Profit_pink', data= data_p).set(title=\"Monthly Avg profit for PINK cab\")"
   ]
  },
  {
   "cell_type": "markdown",
   "id": "84d5b155",
   "metadata": {},
   "source": [
    "## We see that it is slightly positively correlated for PINK cabs.\n",
    "## It means increase in transacion leads to increase in profits."
   ]
  },
  {
   "cell_type": "code",
   "execution_count": 168,
   "id": "10851fbd",
   "metadata": {},
   "outputs": [
    {
     "data": {
      "text/html": [
       "<div>\n",
       "<style scoped>\n",
       "    .dataframe tbody tr th:only-of-type {\n",
       "        vertical-align: middle;\n",
       "    }\n",
       "\n",
       "    .dataframe tbody tr th {\n",
       "        vertical-align: top;\n",
       "    }\n",
       "\n",
       "    .dataframe thead th {\n",
       "        text-align: right;\n",
       "    }\n",
       "</style>\n",
       "<table border=\"1\" class=\"dataframe\">\n",
       "  <thead>\n",
       "    <tr style=\"text-align: right;\">\n",
       "      <th></th>\n",
       "      <th>Profit_pink</th>\n",
       "      <th>Tran_pink</th>\n",
       "    </tr>\n",
       "  </thead>\n",
       "  <tbody>\n",
       "    <tr>\n",
       "      <th>Profit_pink</th>\n",
       "      <td>1.000000</td>\n",
       "      <td>0.678774</td>\n",
       "    </tr>\n",
       "    <tr>\n",
       "      <th>Tran_pink</th>\n",
       "      <td>0.678774</td>\n",
       "      <td>1.000000</td>\n",
       "    </tr>\n",
       "  </tbody>\n",
       "</table>\n",
       "</div>"
      ],
      "text/plain": [
       "             Profit_pink  Tran_pink\n",
       "Profit_pink     1.000000   0.678774\n",
       "Tran_pink       0.678774   1.000000"
      ]
     },
     "execution_count": 168,
     "metadata": {},
     "output_type": "execute_result"
    }
   ],
   "source": [
    "data_p.corr()"
   ]
  },
  {
   "cell_type": "code",
   "execution_count": 169,
   "id": "85ca8057",
   "metadata": {},
   "outputs": [
    {
     "data": {
      "text/html": [
       "<div>\n",
       "<style scoped>\n",
       "    .dataframe tbody tr th:only-of-type {\n",
       "        vertical-align: middle;\n",
       "    }\n",
       "\n",
       "    .dataframe tbody tr th {\n",
       "        vertical-align: top;\n",
       "    }\n",
       "\n",
       "    .dataframe thead th {\n",
       "        text-align: right;\n",
       "    }\n",
       "</style>\n",
       "<table border=\"1\" class=\"dataframe\">\n",
       "  <thead>\n",
       "    <tr style=\"text-align: right;\">\n",
       "      <th></th>\n",
       "      <th>Profit_yellow</th>\n",
       "      <th>Tran_yellow</th>\n",
       "    </tr>\n",
       "  </thead>\n",
       "  <tbody>\n",
       "    <tr>\n",
       "      <th>Profit_yellow</th>\n",
       "      <td>1.000000</td>\n",
       "      <td>-0.791308</td>\n",
       "    </tr>\n",
       "    <tr>\n",
       "      <th>Tran_yellow</th>\n",
       "      <td>-0.791308</td>\n",
       "      <td>1.000000</td>\n",
       "    </tr>\n",
       "  </tbody>\n",
       "</table>\n",
       "</div>"
      ],
      "text/plain": [
       "               Profit_yellow  Tran_yellow\n",
       "Profit_yellow       1.000000    -0.791308\n",
       "Tran_yellow        -0.791308     1.000000"
      ]
     },
     "execution_count": 169,
     "metadata": {},
     "output_type": "execute_result"
    }
   ],
   "source": [
    "data_y.corr()"
   ]
  },
  {
   "cell_type": "markdown",
   "id": "d1f9ca1e",
   "metadata": {},
   "source": [
    "# Hypothesis Testing"
   ]
  },
  {
   "cell_type": "markdown",
   "id": "b749c69d",
   "metadata": {},
   "source": [
    "## Null Hypothesis: Profit remain the same regarding Gender for both Yellow Cab & Pink Cab"
   ]
  },
  {
   "cell_type": "code",
   "execution_count": 170,
   "id": "f6ffe637",
   "metadata": {},
   "outputs": [
    {
     "name": "stdout",
     "output_type": "stream",
     "text": [
      "116000 158681\n",
      "We accept alternate hypothesis that there is a statistical difference\n",
      "P value is  6.060473042494144e-25\n"
     ]
    }
   ],
   "source": [
    "f = master_data[(master_data.Gender=='Female')&(master_data.Company=='Yellow Cab')].groupby('Transaction ID').profit.mean()\n",
    "m = master_data[(master_data.Gender=='Male')&(master_data.Company=='Yellow Cab')].groupby('Transaction ID').profit.mean()\n",
    "print(f.shape[0],m.shape[0])\n",
    "\n",
    "from scipy import stats\n",
    "_, p_value = stats.ttest_ind(f.values,b=m.values,equal_var=True)\n",
    "if(p_value<0.05):\n",
    "    print('We accept alternate hypothesis that there is a statistical difference')\n",
    "else:\n",
    "    print('We fail to null hypothesis that there is no statistical difference')\n",
    "    \n",
    "print('P value is ', p_value)"
   ]
  },
  {
   "cell_type": "markdown",
   "id": "15f34b24",
   "metadata": {},
   "source": [
    "### Yellow Cab: There is difference in profit between Male and Female customers"
   ]
  },
  {
   "cell_type": "code",
   "execution_count": 171,
   "id": "bdef6e5c",
   "metadata": {},
   "outputs": [
    {
     "name": "stdout",
     "output_type": "stream",
     "text": [
      "37480 47231\n",
      "We fail to reject null hypothesis that there is no statistical difference\n",
      "P value is  0.11515305900425798\n"
     ]
    }
   ],
   "source": [
    "f = master_data[(master_data.Gender=='Female')&(master_data.Company=='Pink Cab')].groupby('Transaction ID').profit.mean()\n",
    "m = master_data[(master_data.Gender=='Male')&(master_data.Company=='Pink Cab')].groupby('Transaction ID').profit.mean()\n",
    "print(f.shape[0],m.shape[0])\n",
    "\n",
    "from scipy import stats\n",
    "_, p_value = stats.ttest_ind(f.values,b=m.values,equal_var=True)\n",
    "if(p_value<0.05):\n",
    "    print('We accept alternate hypothesis that there is a statistical difference')\n",
    "else:\n",
    "    print('We fail to reject null hypothesis that there is no statistical difference')\n",
    "    \n",
    "print('P value is ', p_value)"
   ]
  },
  {
   "cell_type": "markdown",
   "id": "50c0bda4",
   "metadata": {},
   "source": [
    "### Pink Cab: There is no difference in profit between Male and Female customers"
   ]
  },
  {
   "cell_type": "markdown",
   "id": "62139ee1",
   "metadata": {},
   "source": [
    "## Null Hypothesis: Profit remain the same regarding age for both Yellow Cab & Pink Cab"
   ]
  },
  {
   "cell_type": "code",
   "execution_count": 172,
   "id": "dffe155e",
   "metadata": {},
   "outputs": [
    {
     "name": "stdout",
     "output_type": "stream",
     "text": [
      "231480 43201\n",
      "We accept alternate hypothesis that theres a difference\n",
      "P value is  6.494256817799368e-09\n"
     ]
    }
   ],
   "source": [
    "#Yellow Cab\n",
    "y = master_data[(master_data.Age<=50)&(master_data.Company=='Yellow Cab')].groupby('Transaction ID').profit.mean()\n",
    "o = master_data[(master_data.Age>50)&(master_data.Company=='Yellow Cab')].groupby('Transaction ID').profit.mean()\n",
    "print(y.shape[0],o.shape[0])\n",
    "\n",
    "from scipy import stats\n",
    "_, p_value = stats.ttest_ind(y.values,b=o.values,equal_var=True)\n",
    "if(p_value<0.05):\n",
    "    print('We accept alternate hypothesis that theres a difference')\n",
    "else:\n",
    "    print('We fail to reject null hypothesis that there is no statistical difference')\n",
    "    \n",
    "print('P value is ', p_value)"
   ]
  },
  {
   "cell_type": "markdown",
   "id": "917afbd4",
   "metadata": {},
   "source": [
    "### Yellow Cab: There is difference in profit between younger and older customers."
   ]
  },
  {
   "cell_type": "code",
   "execution_count": 173,
   "id": "d390ddf3",
   "metadata": {},
   "outputs": [
    {
     "name": "stdout",
     "output_type": "stream",
     "text": [
      "71228 13483\n",
      "We fail to reject null hypothesis that there is no statistical difference\n",
      "P value is  0.32817487547980695\n"
     ]
    }
   ],
   "source": [
    "#Pink Cab\n",
    "y = master_data[(master_data.Age<=50)&(master_data.Company=='Pink Cab')].groupby('Transaction ID').profit.mean()\n",
    "o = master_data[(master_data.Age>50)&(master_data.Company=='Pink Cab')].groupby('Transaction ID').profit.mean()\n",
    "print(y.shape[0],o.shape[0])\n",
    "\n",
    "from scipy import stats\n",
    "_, p_value = stats.ttest_ind(y.values,b=o.values,equal_var=True)\n",
    "if(p_value<0.05):\n",
    "    print('We accept alternate hypothesis that theres a difference')\n",
    "else:\n",
    "    print('We fail to reject null hypothesis that there is no statistical difference')\n",
    "    \n",
    "print('P value is ', p_value)"
   ]
  },
  {
   "cell_type": "markdown",
   "id": "85a9b2bb",
   "metadata": {},
   "source": [
    "### Pink Cab: There is no difference in profit between younger and older customers."
   ]
  },
  {
   "cell_type": "code",
   "execution_count": 174,
   "id": "4b7b9314",
   "metadata": {},
   "outputs": [
    {
     "data": {
      "text/html": [
       "<div>\n",
       "<style scoped>\n",
       "    .dataframe tbody tr th:only-of-type {\n",
       "        vertical-align: middle;\n",
       "    }\n",
       "\n",
       "    .dataframe tbody tr th {\n",
       "        vertical-align: top;\n",
       "    }\n",
       "\n",
       "    .dataframe thead th {\n",
       "        text-align: right;\n",
       "    }\n",
       "</style>\n",
       "<table border=\"1\" class=\"dataframe\">\n",
       "  <thead>\n",
       "    <tr style=\"text-align: right;\">\n",
       "      <th></th>\n",
       "      <th>Transaction ID</th>\n",
       "      <th>Date of Travel</th>\n",
       "      <th>Company</th>\n",
       "      <th>City</th>\n",
       "      <th>KM Travelled</th>\n",
       "      <th>Price Charged</th>\n",
       "      <th>Cost of Trip</th>\n",
       "      <th>profit</th>\n",
       "      <th>month</th>\n",
       "      <th>Customer ID</th>\n",
       "      <th>Payment_Mode</th>\n",
       "      <th>Gender</th>\n",
       "      <th>Age</th>\n",
       "      <th>Income (USD/Month)</th>\n",
       "      <th>year</th>\n",
       "      <th>AgeGroup</th>\n",
       "    </tr>\n",
       "  </thead>\n",
       "  <tbody>\n",
       "    <tr>\n",
       "      <th>0</th>\n",
       "      <td>10000011</td>\n",
       "      <td>2016-01-07</td>\n",
       "      <td>Pink Cab</td>\n",
       "      <td>ATLANTA GA</td>\n",
       "      <td>30.45</td>\n",
       "      <td>370.95</td>\n",
       "      <td>313.635</td>\n",
       "      <td>57.315</td>\n",
       "      <td>1</td>\n",
       "      <td>29290</td>\n",
       "      <td>Card</td>\n",
       "      <td>Male</td>\n",
       "      <td>28</td>\n",
       "      <td>10813</td>\n",
       "      <td>2016</td>\n",
       "      <td>20-30</td>\n",
       "    </tr>\n",
       "    <tr>\n",
       "      <th>1</th>\n",
       "      <td>10000012</td>\n",
       "      <td>2016-01-05</td>\n",
       "      <td>Pink Cab</td>\n",
       "      <td>ATLANTA GA</td>\n",
       "      <td>28.62</td>\n",
       "      <td>358.52</td>\n",
       "      <td>334.854</td>\n",
       "      <td>23.666</td>\n",
       "      <td>1</td>\n",
       "      <td>27703</td>\n",
       "      <td>Card</td>\n",
       "      <td>Male</td>\n",
       "      <td>27</td>\n",
       "      <td>9237</td>\n",
       "      <td>2016</td>\n",
       "      <td>20-30</td>\n",
       "    </tr>\n",
       "    <tr>\n",
       "      <th>2</th>\n",
       "      <td>10000013</td>\n",
       "      <td>2016-01-01</td>\n",
       "      <td>Pink Cab</td>\n",
       "      <td>ATLANTA GA</td>\n",
       "      <td>9.04</td>\n",
       "      <td>125.20</td>\n",
       "      <td>97.632</td>\n",
       "      <td>27.568</td>\n",
       "      <td>1</td>\n",
       "      <td>28712</td>\n",
       "      <td>Cash</td>\n",
       "      <td>Male</td>\n",
       "      <td>53</td>\n",
       "      <td>11242</td>\n",
       "      <td>2016</td>\n",
       "      <td>50-60</td>\n",
       "    </tr>\n",
       "    <tr>\n",
       "      <th>3</th>\n",
       "      <td>10000014</td>\n",
       "      <td>2016-01-06</td>\n",
       "      <td>Pink Cab</td>\n",
       "      <td>ATLANTA GA</td>\n",
       "      <td>33.17</td>\n",
       "      <td>377.40</td>\n",
       "      <td>351.602</td>\n",
       "      <td>25.798</td>\n",
       "      <td>1</td>\n",
       "      <td>28020</td>\n",
       "      <td>Cash</td>\n",
       "      <td>Male</td>\n",
       "      <td>23</td>\n",
       "      <td>23327</td>\n",
       "      <td>2016</td>\n",
       "      <td>20-30</td>\n",
       "    </tr>\n",
       "    <tr>\n",
       "      <th>4</th>\n",
       "      <td>10000015</td>\n",
       "      <td>2016-01-02</td>\n",
       "      <td>Pink Cab</td>\n",
       "      <td>ATLANTA GA</td>\n",
       "      <td>8.73</td>\n",
       "      <td>114.62</td>\n",
       "      <td>97.776</td>\n",
       "      <td>16.844</td>\n",
       "      <td>1</td>\n",
       "      <td>27182</td>\n",
       "      <td>Card</td>\n",
       "      <td>Male</td>\n",
       "      <td>33</td>\n",
       "      <td>8536</td>\n",
       "      <td>2016</td>\n",
       "      <td>30-40</td>\n",
       "    </tr>\n",
       "  </tbody>\n",
       "</table>\n",
       "</div>"
      ],
      "text/plain": [
       "   Transaction ID Date of Travel   Company        City  KM Travelled  \\\n",
       "0        10000011     2016-01-07  Pink Cab  ATLANTA GA         30.45   \n",
       "1        10000012     2016-01-05  Pink Cab  ATLANTA GA         28.62   \n",
       "2        10000013     2016-01-01  Pink Cab  ATLANTA GA          9.04   \n",
       "3        10000014     2016-01-06  Pink Cab  ATLANTA GA         33.17   \n",
       "4        10000015     2016-01-02  Pink Cab  ATLANTA GA          8.73   \n",
       "\n",
       "   Price Charged  Cost of Trip  profit  month  Customer ID Payment_Mode  \\\n",
       "0         370.95       313.635  57.315      1        29290         Card   \n",
       "1         358.52       334.854  23.666      1        27703         Card   \n",
       "2         125.20        97.632  27.568      1        28712         Cash   \n",
       "3         377.40       351.602  25.798      1        28020         Cash   \n",
       "4         114.62        97.776  16.844      1        27182         Card   \n",
       "\n",
       "  Gender  Age  Income (USD/Month)  year AgeGroup  \n",
       "0   Male   28               10813  2016    20-30  \n",
       "1   Male   27                9237  2016    20-30  \n",
       "2   Male   53               11242  2016    50-60  \n",
       "3   Male   23               23327  2016    20-30  \n",
       "4   Male   33                8536  2016    30-40  "
      ]
     },
     "execution_count": 174,
     "metadata": {},
     "output_type": "execute_result"
    }
   ],
   "source": [
    "master_data.head()"
   ]
  },
  {
   "cell_type": "code",
   "execution_count": 175,
   "id": "c61fb574",
   "metadata": {},
   "outputs": [],
   "source": [
    "master_data.to_csv('master_data.csv',index = False)"
   ]
  }
 ],
 "metadata": {
  "kernelspec": {
   "display_name": "Python 3 (ipykernel)",
   "language": "python",
   "name": "python3"
  },
  "language_info": {
   "codemirror_mode": {
    "name": "ipython",
    "version": 3
   },
   "file_extension": ".py",
   "mimetype": "text/x-python",
   "name": "python",
   "nbconvert_exporter": "python",
   "pygments_lexer": "ipython3",
   "version": "3.9.12"
  }
 },
 "nbformat": 4,
 "nbformat_minor": 5
}
